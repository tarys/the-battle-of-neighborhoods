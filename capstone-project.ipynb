{
 "cells": [
  {
   "cell_type": "markdown",
   "metadata": {},
   "source": [
    "# Capstone Project - The Battle of the Neighborhoods"
   ]
  },
  {
   "cell_type": "markdown",
   "metadata": {},
   "source": [
    "## Table of contents\n",
    "* [Introduction: Business Problem](#introduction)\n",
    "* [Libraries installation](#installation)\n",
    "* [Data](#data)\n",
    "* [Methodology](#methodology)\n",
    "* [Analysis and Results](#results)\n",
    "* [Discussion](#discussion)\n",
    "* [Conclusion](#conclusion)"
   ]
  },
  {
   "cell_type": "markdown",
   "metadata": {},
   "source": [
    "## Introduction: Business Problem <a name=\"introduction\"></a>"
   ]
  },
  {
   "cell_type": "markdown",
   "metadata": {},
   "source": [
    "Nowadays working at office or home office is one of the most frequent setups. In most cases such type of work requires seating for multiple hours a day, which brings very unhealthy static tension to the body.  \n",
    "There are multiple types of sport activities to eliminate and compensiate such bad influence, one of very popular is yoga. Yoga implies combination of physical exercises with mental relaxing which also helps to decrease overall stress. Moreover most of yoga exersices do not require extreme physical pressure and are quite safe from injury prospective.  \n",
    "All that said, yoga is quite nice choice for office workers who live in big urban areas.\n",
    "\n",
    "Thus, building a recomendation system for finding best suitable yoga class for office workers based on certain criteria is valuable analytical problem that perfectly fits into _Clustering_ type of Data Science problems which could be solved by unsupervised learning algorithms."
   ]
  },
  {
   "cell_type": "markdown",
   "metadata": {},
   "source": [
    "# Libraries installation <a name=\"installation\"></a>"
   ]
  },
  {
   "cell_type": "code",
   "execution_count": null,
   "metadata": {},
   "outputs": [],
   "source": [
    "import sys\n",
    "!{sys.executable} -m pip install pandas numpy folium requests sklearn matplotlib"
   ]
  },
  {
   "cell_type": "markdown",
   "metadata": {},
   "source": [
    "Python libraries import:"
   ]
  },
  {
   "cell_type": "code",
   "execution_count": 1,
   "metadata": {},
   "outputs": [],
   "source": [
    "import pandas as pd\n",
    "import numpy as np\n",
    "import folium\n",
    "import requests\n",
    "import math\n",
    "from sklearn.cluster import KMeans\n",
    "from sklearn.preprocessing import MinMaxScaler\n",
    "import matplotlib.pyplot as plt"
   ]
  },
  {
   "cell_type": "markdown",
   "metadata": {},
   "source": [
    "## Data <a name=\"data\"></a>"
   ]
  },
  {
   "cell_type": "markdown",
   "metadata": {},
   "source": [
    "### Collection"
   ]
  },
  {
   "cell_type": "markdown",
   "metadata": {},
   "source": [
    "Geo-data about Munich boroughs from [Wikipedia](https://en.wikipedia.org/wiki/Boroughs_of_Munich), [surface and population in each of them](http://www.total-munich.com/20160623888/blog/moving-to-munich/moving-to-munich-introduction-to-munich-s-boroughs.html) was manually constructed and stored into [munich_boroughs.csv](munich_boroughs.csv) CSV-file:"
   ]
  },
  {
   "cell_type": "code",
   "execution_count": 2,
   "metadata": {},
   "outputs": [
    {
     "data": {
      "text/html": [
       "<div>\n",
       "<style scoped>\n",
       "    .dataframe tbody tr th:only-of-type {\n",
       "        vertical-align: middle;\n",
       "    }\n",
       "\n",
       "    .dataframe tbody tr th {\n",
       "        vertical-align: top;\n",
       "    }\n",
       "\n",
       "    .dataframe thead th {\n",
       "        text-align: right;\n",
       "    }\n",
       "</style>\n",
       "<table border=\"1\" class=\"dataframe\">\n",
       "  <thead>\n",
       "    <tr style=\"text-align: right;\">\n",
       "      <th></th>\n",
       "      <th>name</th>\n",
       "      <th>latitude</th>\n",
       "      <th>longitude</th>\n",
       "      <th>population</th>\n",
       "      <th>surface, km2</th>\n",
       "    </tr>\n",
       "  </thead>\n",
       "  <tbody>\n",
       "    <tr>\n",
       "      <th>0</th>\n",
       "      <td>Altstadt-Lehel</td>\n",
       "      <td>48.136111</td>\n",
       "      <td>11.572222</td>\n",
       "      <td>20806</td>\n",
       "      <td>3.15</td>\n",
       "    </tr>\n",
       "    <tr>\n",
       "      <th>1</th>\n",
       "      <td>Ludwigsvorstadt-Isarvorstadt</td>\n",
       "      <td>48.127252</td>\n",
       "      <td>11.564758</td>\n",
       "      <td>52177</td>\n",
       "      <td>4.40</td>\n",
       "    </tr>\n",
       "    <tr>\n",
       "      <th>2</th>\n",
       "      <td>Maxvorstadt</td>\n",
       "      <td>48.150000</td>\n",
       "      <td>11.569444</td>\n",
       "      <td>52575</td>\n",
       "      <td>4.30</td>\n",
       "    </tr>\n",
       "    <tr>\n",
       "      <th>3</th>\n",
       "      <td>Schwabing-West</td>\n",
       "      <td>48.167222</td>\n",
       "      <td>11.586111</td>\n",
       "      <td>67094</td>\n",
       "      <td>4.36</td>\n",
       "    </tr>\n",
       "    <tr>\n",
       "      <th>4</th>\n",
       "      <td>Au-Haidhausen</td>\n",
       "      <td>48.131944</td>\n",
       "      <td>11.588889</td>\n",
       "      <td>60756</td>\n",
       "      <td>4.22</td>\n",
       "    </tr>\n",
       "  </tbody>\n",
       "</table>\n",
       "</div>"
      ],
      "text/plain": [
       "                           name   latitude  longitude  population  \\\n",
       "0                Altstadt-Lehel  48.136111  11.572222       20806   \n",
       "1  Ludwigsvorstadt-Isarvorstadt  48.127252  11.564758       52177   \n",
       "2                   Maxvorstadt  48.150000  11.569444       52575   \n",
       "3                Schwabing-West  48.167222  11.586111       67094   \n",
       "4                 Au-Haidhausen  48.131944  11.588889       60756   \n",
       "\n",
       "   surface, km2  \n",
       "0          3.15  \n",
       "1          4.40  \n",
       "2          4.30  \n",
       "3          4.36  \n",
       "4          4.22  "
      ]
     },
     "execution_count": 2,
     "metadata": {},
     "output_type": "execute_result"
    }
   ],
   "source": [
    "boroughs_df = pd.read_csv('munich_boroughs.csv')\n",
    "boroughs_df.head()"
   ]
  },
  {
   "cell_type": "markdown",
   "metadata": {},
   "source": [
    "Foursquare API is used to obtain information about _Yoga Studios_ in each borough. Following API endpoints are specially useful to get needed info:\n",
    " - https://developer.foursquare.com/docs/api/venues/search\n",
    " - https://developer.foursquare.com/docs/api/venues/details\n",
    "\n",
    "To narrow search results to Yoga classes Venues only we use _Yoga Studio_ `categoryId` = `4bf58dd8d48988d102941735` from [available API categories values](https://developer.foursquare.com/docs/resources/categories).  \n",
    "Total number of venues in all boroughs after collection is truncated to no more than 100 rows. "
   ]
  },
  {
   "cell_type": "markdown",
   "metadata": {},
   "source": [
    "### Cleanup and feature extraction"
   ]
  },
  {
   "cell_type": "markdown",
   "metadata": {},
   "source": [
    "Raw JSON data about _Venues_ retrieved from Foursquare API should be filtered to the following structure:\n",
    " - Foursquare ID\n",
    " - Name\n",
    " - Geo-location:\n",
    "   - Latitude\n",
    "   - Longitude\n",
    " - Contacts:\n",
    "   - Phone\n",
    "   - Website\n",
    "   - Facebook\n",
    "   - Twitter\n",
    "   - Instagram\n",
    " - Openning hours\n",
    " - Rating\n",
    " \n",
    "Mentioned structure is then populated with prices information manually to the best of researcher's effort. \n",
    "Populated data is then flattened and one-hot encoded to generate _feature-file_ for _K-Means Clustering_ algorithm to determine main types of offered Yoga classes in Munich (e.g. far from city center, but cheap; popular in the city center, etc.)"
   ]
  },
  {
   "cell_type": "markdown",
   "metadata": {},
   "source": [
    "## Methodology <a name=\"methodology\"></a>"
   ]
  },
  {
   "cell_type": "markdown",
   "metadata": {},
   "source": [
    "First, let's visualize boroughs centers on the map:"
   ]
  },
  {
   "cell_type": "code",
   "execution_count": null,
   "metadata": {},
   "outputs": [],
   "source": [
    "munich_latitude = 48.153333\n",
    "munich_longitude = 11.566667\n",
    "map_munich = folium.Map(location=[munich_latitude, munich_longitude], zoom_start=12)\n",
    "\n",
    "for _, borough in boroughs_df.iterrows():\n",
    "    label = folium.Popup(borough['name'], parse_html=True)\n",
    "    folium.CircleMarker(\n",
    "        [borough['latitude'], borough['longitude']],\n",
    "        radius=5,\n",
    "        popup=label,\n",
    "        color='blue',\n",
    "        fill=True,\n",
    "        fill_color='#3186cc',\n",
    "        fill_opacity=0.7,\n",
    "        parse_html=False).add_to(map_munich)\n",
    "\n",
    "map_munich"
   ]
  },
  {
   "cell_type": "markdown",
   "metadata": {},
   "source": [
    "Next we used Foursquare API to obtain information about Yoga Studios in each boroughs.  \n",
    "Define Foursquare API calls parameters which have constant values:"
   ]
  },
  {
   "cell_type": "code",
   "execution_count": null,
   "metadata": {},
   "outputs": [],
   "source": [
    "CLIENT_ID = ''\n",
    "CLIENT_SECRET = ''\n",
    "VERSION = '20190929'\n",
    "RADIUS=5000 # meters around location\n",
    "LIMIT=100\n",
    "# see https://developer.foursquare.com/docs/resources/categories for all possible values\n",
    "YOGA_STUDIO_CATEGORY_ID='4bf58dd8d48988d102941735'"
   ]
  },
  {
   "cell_type": "markdown",
   "metadata": {},
   "source": [
    "Retrieve information about Yoga Studios via Foursquare API call:"
   ]
  },
  {
   "cell_type": "code",
   "execution_count": null,
   "metadata": {},
   "outputs": [],
   "source": [
    "venues = []\n",
    "for _, borough in boroughs_df.iterrows():    \n",
    "\n",
    "    url = 'https://api.foursquare.com/v2/venues/search?&client_id={client_id}&client_secret={client_secret}&v={v}&ll={lat},{lng}&radius={radius}&limit={limit}&categoryId={categoryId}'.format(\n",
    "            client_id=CLIENT_ID, \n",
    "            client_secret=CLIENT_SECRET, \n",
    "            v=VERSION, \n",
    "            lat=borough['latitude'], \n",
    "            lng=borough['longitude'], \n",
    "            radius=RADIUS, \n",
    "            limit=LIMIT,\n",
    "            categoryId=YOGA_STUDIO_CATEGORY_ID)\n",
    "    response = requests.get(url).json()['response']['venues']\n",
    "\n",
    "    if response:\n",
    "        print(\"Found {number} venues for '{name}' borough.\".format(number=len(response), name=borough['name']))\n",
    "        for venue in response:\n",
    "            address = venue['location']['address'] if 'address' in venue['location'] else ''\n",
    "            venues.append([venue['id'], venue['name'], venue['location']['lat'], venue['location']['lng'], address])\n",
    "    else:\n",
    "        print(\"WARNING: No venues found for '{name}' borough.\".format(name=borough['name']))\n",
    "yoga_classes_raw_df = pd.DataFrame(venues, columns=['id', 'name', 'latitude', 'longitude', 'address'])"
   ]
  },
  {
   "cell_type": "markdown",
   "metadata": {},
   "source": [
    "Let's get basic understanding of actual data:"
   ]
  },
  {
   "cell_type": "code",
   "execution_count": null,
   "metadata": {},
   "outputs": [],
   "source": [
    "print('Raw df size:', yoga_classes_raw_df.shape)\n",
    "yoga_classes_raw_df.head()"
   ]
  },
  {
   "cell_type": "markdown",
   "metadata": {},
   "source": [
    "Remove duplicates:"
   ]
  },
  {
   "cell_type": "code",
   "execution_count": null,
   "metadata": {},
   "outputs": [],
   "source": [
    "yoga_classes_df = yoga_classes_raw_df.drop_duplicates(subset='id').reset_index(drop=True)\n",
    "print('Deduplicated df size:', yoga_classes_df.shape)"
   ]
  },
  {
   "cell_type": "markdown",
   "metadata": {},
   "source": [
    "Utility function to convert latitute and longitude coordinates into distance, based on [Haversine formula](https://en.wikipedia.org/wiki/Haversine_formula):"
   ]
  },
  {
   "cell_type": "code",
   "execution_count": null,
   "metadata": {},
   "outputs": [],
   "source": [
    "def haversine_formula(lat1, lon1, lat2, lon2):\n",
    "    R = 6378.137; # radius of earth in KM\n",
    "    dLat = lat2 * math.pi / 180 - lat1 * math.pi / 180;\n",
    "    dLon = lon2 * math.pi / 180 - lon1 * math.pi / 180;\n",
    "    a = math.sin(dLat/2) * math.sin(dLat/2) + math.cos(lat1 * math.pi / 180) * math.cos(lat2 * math.pi / 180) * math.sin(dLon/2) * math.sin(dLon/2);\n",
    "    c = 2 * math.atan2(math.sqrt(a), math.sqrt(1 - a));\n",
    "    d = R * c;\n",
    "    \n",
    "    return math.ceil(d * 1000) # meters"
   ]
  },
  {
   "cell_type": "markdown",
   "metadata": {},
   "source": [
    "Calculate distance from Munich city center:"
   ]
  },
  {
   "cell_type": "code",
   "execution_count": null,
   "metadata": {},
   "outputs": [],
   "source": [
    "munich_lat = 48.1451181\n",
    "munich_lon = 11.5430782\n",
    "yoga_classes_df['distance to center, m'] = yoga_classes_df.apply(lambda row: haversine_formula(row['latitude'], row['longitude'], munich_lat, munich_lon), axis=1)\n",
    "yoga_classes_df.head()"
   ]
  },
  {
   "cell_type": "markdown",
   "metadata": {},
   "source": [
    "To determine to which borough each yoga class belongs to:\n",
    "1. Calculate distance between venue and borough center locations\n",
    "1. Select borough with min distance"
   ]
  },
  {
   "cell_type": "code",
   "execution_count": null,
   "metadata": {},
   "outputs": [],
   "source": [
    "borough_distances = []\n",
    "for _, borough in boroughs_df.iterrows():\n",
    "    column_name = borough['name']\n",
    "    borough_distances.append(column_name)\n",
    "    borough_lat = borough['latitude']\n",
    "    borough_lon = borough['longitude']\n",
    "    yoga_classes_df[column_name] = yoga_classes_df.apply(lambda row: haversine_formula(row['latitude'], row['longitude'], borough_lat, borough_lon), axis=1)\n",
    "yoga_classes_df['borough'] = yoga_classes_df[borough_distances].T.idxmin()\n",
    "yoga_classes_df.drop(columns=borough_distances, inplace=True)\n"
   ]
  },
  {
   "cell_type": "markdown",
   "metadata": {},
   "source": [
    "Create dataframe with features for K-means algorihtm:"
   ]
  },
  {
   "cell_type": "code",
   "execution_count": null,
   "metadata": {},
   "outputs": [],
   "source": [
    "yoga_classes_features_df = yoga_classes_df[['id', 'name', 'borough', 'distance to center, m']]\n",
    "yoga_classes_features_df.head()"
   ]
  },
  {
   "cell_type": "markdown",
   "metadata": {},
   "source": [
    "Get contacts, openning hours and rating information:"
   ]
  },
  {
   "cell_type": "code",
   "execution_count": null,
   "metadata": {},
   "outputs": [],
   "source": [
    "ratings = []\n",
    "phones = []\n",
    "twitter = []\n",
    "instagram = []\n",
    "facebook = []\n",
    "timeframes = []\n",
    "\n",
    "for _, venue in yoga_classes_features_df.iterrows():\n",
    "\n",
    "    url = 'https://api.foursquare.com/v2/venues/{venue_id}?&client_id={client_id}&client_secret={client_secret}&v={v}'.format(\n",
    "        venue_id = venue['id'],\n",
    "        client_id=CLIENT_ID, \n",
    "        client_secret=CLIENT_SECRET, \n",
    "        v=VERSION)\n",
    "    response = requests.get(url).json()['response']['venue']\n",
    "    \n",
    "    ratings.append(response['rating'] if 'rating' in response else 'NA')\n",
    "    if response['contact']:\n",
    "        phones.append(response['contact']['phone'] if 'phone' in response['contact'] else 'NA')\n",
    "        twitter.append(response['contact']['twitter'] if 'twitter' in response['contact'] else 'NA')\n",
    "        instagram.append(response['contact']['instagram'] if 'instagram' in response['contact'] else 'NA')\n",
    "        facebook.append(response['contact']['facebookName'] if 'facebookName' in response['contact'] else 'NA')\n",
    "    else:\n",
    "        phones.append('NA')\n",
    "        twitter.append('NA')\n",
    "        instagram.append('NA')\n",
    "        facebook.append('NA')\n",
    "    timeframes.append(response['hours']['timeframes'] if 'hours' in response else 'NA')\n",
    "    print('Processed details about {venue_name}'.format(venue_name=venue['name']))\n",
    "    \n",
    "yoga_classes_features_df['rating'] = ratings\n",
    "yoga_classes_features_df['phone'] = phones\n",
    "yoga_classes_features_df['twitter'] = twitter\n",
    "yoga_classes_features_df['instagram'] = instagram\n",
    "yoga_classes_features_df['facebook'] = facebook\n",
    "yoga_classes_features_df['timeframes'] = timeframes"
   ]
  },
  {
   "cell_type": "markdown",
   "metadata": {},
   "source": [
    "Save to CSV-file to not make same call again:"
   ]
  },
  {
   "cell_type": "code",
   "execution_count": null,
   "metadata": {},
   "outputs": [],
   "source": [
    "yoga_classes_features_df.to_csv('yoga_classes_features_df.csv', index=False)"
   ]
  },
  {
   "cell_type": "markdown",
   "metadata": {},
   "source": [
    "Most of records do not contain information about working time:"
   ]
  },
  {
   "cell_type": "code",
   "execution_count": null,
   "metadata": {},
   "outputs": [],
   "source": [
    "na_percentage = (yoga_classes_features_df['timeframes'].isna()).sum() / yoga_classes_features_df['name'].count() * 100\n",
    "print(f\" Percentage of NA timeframes: {na_percentage}%\")"
   ]
  },
  {
   "cell_type": "markdown",
   "metadata": {},
   "source": [
    "and no information about prices."
   ]
  },
  {
   "cell_type": "markdown",
   "metadata": {},
   "source": [
    "Thus, this information is collected manually and added to table with Yoga studios data."
   ]
  },
  {
   "cell_type": "markdown",
   "metadata": {},
   "source": [
    "Working hours are collected manually and with _one-hot-encoding_ right away:\n",
    "- if studio works at 08:00-10:00 AM, Mon-Fri, than `morning_work` column is `1`, otherwise `0`\n",
    "- if studio works at 18:00-22:00 PM, Mon-Fri, than `evening_work` column is `1`, otherwise `0`\n",
    "- if studio works on weekend Sat-Sun, than `weekend_work` column is `1`, otherwise `0`"
   ]
  },
  {
   "cell_type": "markdown",
   "metadata": {},
   "source": [
    "Price information is divided into 3 columns:\n",
    "- `trial_lesson` is `1` if free one-time trial lesson is available\n",
    "- `single_lesson_price` - cost of one single lesson in EUR\n",
    "- `month_price` - cost of month abonnement in EUR"
   ]
  },
  {
   "cell_type": "markdown",
   "metadata": {},
   "source": [
    "Another important detail - I've only collected info from websites, so Yoga studios which do not have websites are excluded from resulting list of studios for analysis."
   ]
  },
  {
   "cell_type": "markdown",
   "metadata": {},
   "source": [
    "## Analysis and Results <a name=\"results\"></a>"
   ]
  },
  {
   "cell_type": "markdown",
   "metadata": {},
   "source": [
    "Instead of rebuilding table with Yoga studios data from scratch, let's just load it from intermeidate CSV-file from local storage:"
   ]
  },
  {
   "cell_type": "code",
   "execution_count": 3,
   "metadata": {},
   "outputs": [
    {
     "data": {
      "text/html": [
       "<div>\n",
       "<style scoped>\n",
       "    .dataframe tbody tr th:only-of-type {\n",
       "        vertical-align: middle;\n",
       "    }\n",
       "\n",
       "    .dataframe tbody tr th {\n",
       "        vertical-align: top;\n",
       "    }\n",
       "\n",
       "    .dataframe thead th {\n",
       "        text-align: right;\n",
       "    }\n",
       "</style>\n",
       "<table border=\"1\" class=\"dataframe\">\n",
       "  <thead>\n",
       "    <tr style=\"text-align: right;\">\n",
       "      <th></th>\n",
       "      <th>id</th>\n",
       "      <th>name</th>\n",
       "      <th>borough</th>\n",
       "      <th>distance to center, m</th>\n",
       "      <th>rating</th>\n",
       "      <th>phone</th>\n",
       "      <th>twitter</th>\n",
       "      <th>instagram</th>\n",
       "      <th>facebook</th>\n",
       "      <th>timeframes</th>\n",
       "      <th>morning_work</th>\n",
       "      <th>evening_work</th>\n",
       "      <th>weekend_work</th>\n",
       "      <th>free_trial_lesson</th>\n",
       "      <th>single_lesson_price</th>\n",
       "      <th>month_price</th>\n",
       "      <th>women_only</th>\n",
       "    </tr>\n",
       "  </thead>\n",
       "  <tbody>\n",
       "    <tr>\n",
       "      <th>0</th>\n",
       "      <td>51d6f5bc498eae44762af325</td>\n",
       "      <td>yoga institut</td>\n",
       "      <td>Altstadt-Lehel</td>\n",
       "      <td>2215</td>\n",
       "      <td>NaN</td>\n",
       "      <td>NaN</td>\n",
       "      <td>NaN</td>\n",
       "      <td>NaN</td>\n",
       "      <td>NaN</td>\n",
       "      <td>NaN</td>\n",
       "      <td>0</td>\n",
       "      <td>1</td>\n",
       "      <td>0</td>\n",
       "      <td>1</td>\n",
       "      <td>18.0</td>\n",
       "      <td>90.0</td>\n",
       "      <td>0</td>\n",
       "    </tr>\n",
       "    <tr>\n",
       "      <th>1</th>\n",
       "      <td>533d7a0b498eec57aa03472b</td>\n",
       "      <td>Yogastudio Mami &amp; Me</td>\n",
       "      <td>Schwabing-West</td>\n",
       "      <td>3041</td>\n",
       "      <td>NaN</td>\n",
       "      <td>4.915211e+12</td>\n",
       "      <td>NaN</td>\n",
       "      <td>NaN</td>\n",
       "      <td>NaN</td>\n",
       "      <td>NaN</td>\n",
       "      <td>1</td>\n",
       "      <td>1</td>\n",
       "      <td>1</td>\n",
       "      <td>0</td>\n",
       "      <td>10.0</td>\n",
       "      <td>85.0</td>\n",
       "      <td>1</td>\n",
       "    </tr>\n",
       "    <tr>\n",
       "      <th>2</th>\n",
       "      <td>55708236498e5d3055e6cfff</td>\n",
       "      <td>Patrick Broome Yoga</td>\n",
       "      <td>Altstadt-Lehel</td>\n",
       "      <td>2384</td>\n",
       "      <td>NaN</td>\n",
       "      <td>NaN</td>\n",
       "      <td>NaN</td>\n",
       "      <td>NaN</td>\n",
       "      <td>NaN</td>\n",
       "      <td>NaN</td>\n",
       "      <td>1</td>\n",
       "      <td>1</td>\n",
       "      <td>1</td>\n",
       "      <td>0</td>\n",
       "      <td>18.0</td>\n",
       "      <td>108.0</td>\n",
       "      <td>0</td>\n",
       "    </tr>\n",
       "    <tr>\n",
       "      <th>3</th>\n",
       "      <td>4ccc31d0ba0a548159753b59</td>\n",
       "      <td>Werkstatt 7</td>\n",
       "      <td>Ludwigsvorstadt-Isarvorstadt</td>\n",
       "      <td>2351</td>\n",
       "      <td>NaN</td>\n",
       "      <td>4.989517e+11</td>\n",
       "      <td>NaN</td>\n",
       "      <td>NaN</td>\n",
       "      <td>NaN</td>\n",
       "      <td>NaN</td>\n",
       "      <td>1</td>\n",
       "      <td>1</td>\n",
       "      <td>1</td>\n",
       "      <td>0</td>\n",
       "      <td>16.0</td>\n",
       "      <td>105.0</td>\n",
       "      <td>0</td>\n",
       "    </tr>\n",
       "    <tr>\n",
       "      <th>4</th>\n",
       "      <td>55eef8ba498e3c52398ad862</td>\n",
       "      <td>MahaShakti Yoga Studio</td>\n",
       "      <td>Maxvorstadt</td>\n",
       "      <td>2552</td>\n",
       "      <td>NaN</td>\n",
       "      <td>4.989273e+10</td>\n",
       "      <td>NaN</td>\n",
       "      <td>NaN</td>\n",
       "      <td>NaN</td>\n",
       "      <td>NaN</td>\n",
       "      <td>1</td>\n",
       "      <td>1</td>\n",
       "      <td>1</td>\n",
       "      <td>1</td>\n",
       "      <td>19.0</td>\n",
       "      <td>120.0</td>\n",
       "      <td>0</td>\n",
       "    </tr>\n",
       "  </tbody>\n",
       "</table>\n",
       "</div>"
      ],
      "text/plain": [
       "                         id                    name  \\\n",
       "0  51d6f5bc498eae44762af325           yoga institut   \n",
       "1  533d7a0b498eec57aa03472b    Yogastudio Mami & Me   \n",
       "2  55708236498e5d3055e6cfff     Patrick Broome Yoga   \n",
       "3  4ccc31d0ba0a548159753b59             Werkstatt 7   \n",
       "4  55eef8ba498e3c52398ad862  MahaShakti Yoga Studio   \n",
       "\n",
       "                        borough  distance to center, m  rating         phone  \\\n",
       "0                Altstadt-Lehel                   2215     NaN           NaN   \n",
       "1                Schwabing-West                   3041     NaN  4.915211e+12   \n",
       "2                Altstadt-Lehel                   2384     NaN           NaN   \n",
       "3  Ludwigsvorstadt-Isarvorstadt                   2351     NaN  4.989517e+11   \n",
       "4                   Maxvorstadt                   2552     NaN  4.989273e+10   \n",
       "\n",
       "  twitter instagram facebook timeframes  morning_work  evening_work  \\\n",
       "0     NaN       NaN      NaN        NaN             0             1   \n",
       "1     NaN       NaN      NaN        NaN             1             1   \n",
       "2     NaN       NaN      NaN        NaN             1             1   \n",
       "3     NaN       NaN      NaN        NaN             1             1   \n",
       "4     NaN       NaN      NaN        NaN             1             1   \n",
       "\n",
       "   weekend_work  free_trial_lesson  single_lesson_price  month_price  \\\n",
       "0             0                  1                 18.0         90.0   \n",
       "1             1                  0                 10.0         85.0   \n",
       "2             1                  0                 18.0        108.0   \n",
       "3             1                  0                 16.0        105.0   \n",
       "4             1                  1                 19.0        120.0   \n",
       "\n",
       "   women_only  \n",
       "0           0  \n",
       "1           1  \n",
       "2           0  \n",
       "3           0  \n",
       "4           0  "
      ]
     },
     "execution_count": 3,
     "metadata": {},
     "output_type": "execute_result"
    }
   ],
   "source": [
    "yoga_classes_df = pd.read_csv('yoga_classes_features_df.csv')\n",
    "yoga_classes_df.head()"
   ]
  },
  {
   "cell_type": "markdown",
   "metadata": {},
   "source": [
    "Prepare data for k-means clustering, retain only subset of all columns:"
   ]
  },
  {
   "cell_type": "code",
   "execution_count": 4,
   "metadata": {},
   "outputs": [],
   "source": [
    "yoga_classes_df_clustering = yoga_classes_df.filter(['distance to center, m', 'morning_work', 'evening_work', 'weekend_work', 'month_price'])\n",
    "yoga_classes_df_clustering.fillna(0.0, axis=1, inplace=True)"
   ]
  },
  {
   "cell_type": "markdown",
   "metadata": {},
   "source": [
    "Normalize distance to city center column to avoid weight bias:"
   ]
  },
  {
   "cell_type": "code",
   "execution_count": 5,
   "metadata": {},
   "outputs": [],
   "source": [
    "scaler = MinMaxScaler() \n",
    "scaled_values = scaler.fit_transform(yoga_classes_df_clustering)\n",
    "yoga_classes_df_clustering.loc[:,:] = scaled_values"
   ]
  },
  {
   "cell_type": "markdown",
   "metadata": {},
   "source": [
    "Now, when data is prepared and cleaned, let's run k-means clustering:"
   ]
  },
  {
   "cell_type": "code",
   "execution_count": 6,
   "metadata": {},
   "outputs": [],
   "source": [
    "kclusters = 10\n",
    "kmeans = KMeans(n_clusters=kclusters, random_state=0).fit(yoga_classes_df_clustering)\n",
    "yoga_classes_df_clustering.insert(0, 'cluster_label', kmeans.labels_)"
   ]
  },
  {
   "cell_type": "code",
   "execution_count": 7,
   "metadata": {},
   "outputs": [
    {
     "data": {
      "text/html": [
       "<div>\n",
       "<style scoped>\n",
       "    .dataframe tbody tr th:only-of-type {\n",
       "        vertical-align: middle;\n",
       "    }\n",
       "\n",
       "    .dataframe tbody tr th {\n",
       "        vertical-align: top;\n",
       "    }\n",
       "\n",
       "    .dataframe thead th {\n",
       "        text-align: right;\n",
       "    }\n",
       "</style>\n",
       "<table border=\"1\" class=\"dataframe\">\n",
       "  <thead>\n",
       "    <tr style=\"text-align: right;\">\n",
       "      <th></th>\n",
       "      <th>cluster_label</th>\n",
       "      <th>distance to center, m</th>\n",
       "      <th>morning_work</th>\n",
       "      <th>evening_work</th>\n",
       "      <th>weekend_work</th>\n",
       "      <th>month_price</th>\n",
       "    </tr>\n",
       "  </thead>\n",
       "  <tbody>\n",
       "    <tr>\n",
       "      <th>10</th>\n",
       "      <td>0</td>\n",
       "      <td>0.361660</td>\n",
       "      <td>0.0</td>\n",
       "      <td>0.0</td>\n",
       "      <td>0.0</td>\n",
       "      <td>0.888889</td>\n",
       "    </tr>\n",
       "    <tr>\n",
       "      <th>37</th>\n",
       "      <td>0</td>\n",
       "      <td>0.198805</td>\n",
       "      <td>0.0</td>\n",
       "      <td>0.0</td>\n",
       "      <td>0.0</td>\n",
       "      <td>0.888889</td>\n",
       "    </tr>\n",
       "    <tr>\n",
       "      <th>34</th>\n",
       "      <td>0</td>\n",
       "      <td>0.359841</td>\n",
       "      <td>0.0</td>\n",
       "      <td>0.0</td>\n",
       "      <td>0.0</td>\n",
       "      <td>1.000000</td>\n",
       "    </tr>\n",
       "    <tr>\n",
       "      <th>19</th>\n",
       "      <td>1</td>\n",
       "      <td>0.242810</td>\n",
       "      <td>1.0</td>\n",
       "      <td>0.0</td>\n",
       "      <td>1.0</td>\n",
       "      <td>0.666667</td>\n",
       "    </tr>\n",
       "    <tr>\n",
       "      <th>4</th>\n",
       "      <td>1</td>\n",
       "      <td>0.162335</td>\n",
       "      <td>1.0</td>\n",
       "      <td>0.0</td>\n",
       "      <td>1.0</td>\n",
       "      <td>0.666667</td>\n",
       "    </tr>\n",
       "    <tr>\n",
       "      <th>5</th>\n",
       "      <td>1</td>\n",
       "      <td>0.200710</td>\n",
       "      <td>1.0</td>\n",
       "      <td>0.0</td>\n",
       "      <td>1.0</td>\n",
       "      <td>0.638889</td>\n",
       "    </tr>\n",
       "    <tr>\n",
       "      <th>17</th>\n",
       "      <td>1</td>\n",
       "      <td>0.241337</td>\n",
       "      <td>1.0</td>\n",
       "      <td>0.0</td>\n",
       "      <td>1.0</td>\n",
       "      <td>0.716667</td>\n",
       "    </tr>\n",
       "    <tr>\n",
       "      <th>35</th>\n",
       "      <td>1</td>\n",
       "      <td>0.133229</td>\n",
       "      <td>1.0</td>\n",
       "      <td>0.0</td>\n",
       "      <td>1.0</td>\n",
       "      <td>0.972222</td>\n",
       "    </tr>\n",
       "    <tr>\n",
       "      <th>8</th>\n",
       "      <td>1</td>\n",
       "      <td>0.331341</td>\n",
       "      <td>1.0</td>\n",
       "      <td>0.0</td>\n",
       "      <td>1.0</td>\n",
       "      <td>0.666667</td>\n",
       "    </tr>\n",
       "    <tr>\n",
       "      <th>24</th>\n",
       "      <td>1</td>\n",
       "      <td>0.399861</td>\n",
       "      <td>1.0</td>\n",
       "      <td>0.0</td>\n",
       "      <td>1.0</td>\n",
       "      <td>0.716667</td>\n",
       "    </tr>\n",
       "    <tr>\n",
       "      <th>11</th>\n",
       "      <td>1</td>\n",
       "      <td>0.055527</td>\n",
       "      <td>1.0</td>\n",
       "      <td>0.0</td>\n",
       "      <td>1.0</td>\n",
       "      <td>0.888889</td>\n",
       "    </tr>\n",
       "    <tr>\n",
       "      <th>18</th>\n",
       "      <td>2</td>\n",
       "      <td>0.000000</td>\n",
       "      <td>0.0</td>\n",
       "      <td>0.0</td>\n",
       "      <td>1.0</td>\n",
       "      <td>0.583333</td>\n",
       "    </tr>\n",
       "    <tr>\n",
       "      <th>31</th>\n",
       "      <td>2</td>\n",
       "      <td>0.235447</td>\n",
       "      <td>0.0</td>\n",
       "      <td>0.0</td>\n",
       "      <td>1.0</td>\n",
       "      <td>0.600000</td>\n",
       "    </tr>\n",
       "    <tr>\n",
       "      <th>14</th>\n",
       "      <td>2</td>\n",
       "      <td>0.248787</td>\n",
       "      <td>0.0</td>\n",
       "      <td>0.0</td>\n",
       "      <td>1.0</td>\n",
       "      <td>0.611111</td>\n",
       "    </tr>\n",
       "    <tr>\n",
       "      <th>42</th>\n",
       "      <td>2</td>\n",
       "      <td>0.026507</td>\n",
       "      <td>0.0</td>\n",
       "      <td>0.0</td>\n",
       "      <td>1.0</td>\n",
       "      <td>0.500000</td>\n",
       "    </tr>\n",
       "    <tr>\n",
       "      <th>36</th>\n",
       "      <td>2</td>\n",
       "      <td>0.191441</td>\n",
       "      <td>0.0</td>\n",
       "      <td>0.0</td>\n",
       "      <td>1.0</td>\n",
       "      <td>0.555556</td>\n",
       "    </tr>\n",
       "    <tr>\n",
       "      <th>38</th>\n",
       "      <td>2</td>\n",
       "      <td>0.368676</td>\n",
       "      <td>0.0</td>\n",
       "      <td>0.0</td>\n",
       "      <td>1.0</td>\n",
       "      <td>0.622222</td>\n",
       "    </tr>\n",
       "    <tr>\n",
       "      <th>13</th>\n",
       "      <td>2</td>\n",
       "      <td>0.035516</td>\n",
       "      <td>0.0</td>\n",
       "      <td>0.0</td>\n",
       "      <td>1.0</td>\n",
       "      <td>0.827778</td>\n",
       "    </tr>\n",
       "    <tr>\n",
       "      <th>40</th>\n",
       "      <td>3</td>\n",
       "      <td>1.000000</td>\n",
       "      <td>1.0</td>\n",
       "      <td>0.0</td>\n",
       "      <td>0.0</td>\n",
       "      <td>0.555556</td>\n",
       "    </tr>\n",
       "    <tr>\n",
       "      <th>32</th>\n",
       "      <td>4</td>\n",
       "      <td>0.178621</td>\n",
       "      <td>0.0</td>\n",
       "      <td>0.0</td>\n",
       "      <td>0.0</td>\n",
       "      <td>0.722222</td>\n",
       "    </tr>\n",
       "    <tr>\n",
       "      <th>30</th>\n",
       "      <td>4</td>\n",
       "      <td>0.150641</td>\n",
       "      <td>0.0</td>\n",
       "      <td>0.0</td>\n",
       "      <td>0.0</td>\n",
       "      <td>0.472222</td>\n",
       "    </tr>\n",
       "    <tr>\n",
       "      <th>23</th>\n",
       "      <td>4</td>\n",
       "      <td>0.199671</td>\n",
       "      <td>0.0</td>\n",
       "      <td>0.0</td>\n",
       "      <td>0.0</td>\n",
       "      <td>0.500000</td>\n",
       "    </tr>\n",
       "    <tr>\n",
       "      <th>0</th>\n",
       "      <td>4</td>\n",
       "      <td>0.133143</td>\n",
       "      <td>0.0</td>\n",
       "      <td>0.0</td>\n",
       "      <td>0.0</td>\n",
       "      <td>0.500000</td>\n",
       "    </tr>\n",
       "    <tr>\n",
       "      <th>12</th>\n",
       "      <td>4</td>\n",
       "      <td>0.177235</td>\n",
       "      <td>0.0</td>\n",
       "      <td>0.0</td>\n",
       "      <td>0.0</td>\n",
       "      <td>0.577778</td>\n",
       "    </tr>\n",
       "    <tr>\n",
       "      <th>20</th>\n",
       "      <td>4</td>\n",
       "      <td>0.014640</td>\n",
       "      <td>0.0</td>\n",
       "      <td>0.0</td>\n",
       "      <td>0.0</td>\n",
       "      <td>0.555556</td>\n",
       "    </tr>\n",
       "    <tr>\n",
       "      <th>6</th>\n",
       "      <td>4</td>\n",
       "      <td>0.055094</td>\n",
       "      <td>0.0</td>\n",
       "      <td>0.0</td>\n",
       "      <td>0.0</td>\n",
       "      <td>0.722222</td>\n",
       "    </tr>\n",
       "    <tr>\n",
       "      <th>16</th>\n",
       "      <td>4</td>\n",
       "      <td>0.201230</td>\n",
       "      <td>0.0</td>\n",
       "      <td>0.0</td>\n",
       "      <td>0.0</td>\n",
       "      <td>0.416667</td>\n",
       "    </tr>\n",
       "    <tr>\n",
       "      <th>22</th>\n",
       "      <td>5</td>\n",
       "      <td>0.723406</td>\n",
       "      <td>0.0</td>\n",
       "      <td>0.0</td>\n",
       "      <td>0.0</td>\n",
       "      <td>0.000000</td>\n",
       "    </tr>\n",
       "    <tr>\n",
       "      <th>33</th>\n",
       "      <td>6</td>\n",
       "      <td>0.694473</td>\n",
       "      <td>1.0</td>\n",
       "      <td>0.0</td>\n",
       "      <td>1.0</td>\n",
       "      <td>0.611111</td>\n",
       "    </tr>\n",
       "    <tr>\n",
       "      <th>39</th>\n",
       "      <td>6</td>\n",
       "      <td>0.887561</td>\n",
       "      <td>1.0</td>\n",
       "      <td>0.0</td>\n",
       "      <td>1.0</td>\n",
       "      <td>0.777778</td>\n",
       "    </tr>\n",
       "    <tr>\n",
       "      <th>28</th>\n",
       "      <td>7</td>\n",
       "      <td>0.137214</td>\n",
       "      <td>1.0</td>\n",
       "      <td>0.0</td>\n",
       "      <td>1.0</td>\n",
       "      <td>0.600000</td>\n",
       "    </tr>\n",
       "    <tr>\n",
       "      <th>2</th>\n",
       "      <td>7</td>\n",
       "      <td>0.147782</td>\n",
       "      <td>1.0</td>\n",
       "      <td>0.0</td>\n",
       "      <td>1.0</td>\n",
       "      <td>0.600000</td>\n",
       "    </tr>\n",
       "    <tr>\n",
       "      <th>27</th>\n",
       "      <td>7</td>\n",
       "      <td>0.018018</td>\n",
       "      <td>1.0</td>\n",
       "      <td>0.0</td>\n",
       "      <td>1.0</td>\n",
       "      <td>0.550000</td>\n",
       "    </tr>\n",
       "    <tr>\n",
       "      <th>26</th>\n",
       "      <td>7</td>\n",
       "      <td>0.006757</td>\n",
       "      <td>1.0</td>\n",
       "      <td>0.0</td>\n",
       "      <td>1.0</td>\n",
       "      <td>0.694444</td>\n",
       "    </tr>\n",
       "    <tr>\n",
       "      <th>9</th>\n",
       "      <td>7</td>\n",
       "      <td>0.007883</td>\n",
       "      <td>1.0</td>\n",
       "      <td>0.0</td>\n",
       "      <td>1.0</td>\n",
       "      <td>0.416667</td>\n",
       "    </tr>\n",
       "    <tr>\n",
       "      <th>7</th>\n",
       "      <td>7</td>\n",
       "      <td>0.323458</td>\n",
       "      <td>1.0</td>\n",
       "      <td>0.0</td>\n",
       "      <td>1.0</td>\n",
       "      <td>0.472222</td>\n",
       "    </tr>\n",
       "    <tr>\n",
       "      <th>1</th>\n",
       "      <td>7</td>\n",
       "      <td>0.204695</td>\n",
       "      <td>1.0</td>\n",
       "      <td>0.0</td>\n",
       "      <td>1.0</td>\n",
       "      <td>0.472222</td>\n",
       "    </tr>\n",
       "    <tr>\n",
       "      <th>3</th>\n",
       "      <td>7</td>\n",
       "      <td>0.144924</td>\n",
       "      <td>1.0</td>\n",
       "      <td>0.0</td>\n",
       "      <td>1.0</td>\n",
       "      <td>0.583333</td>\n",
       "    </tr>\n",
       "    <tr>\n",
       "      <th>29</th>\n",
       "      <td>7</td>\n",
       "      <td>0.001992</td>\n",
       "      <td>1.0</td>\n",
       "      <td>0.0</td>\n",
       "      <td>1.0</td>\n",
       "      <td>0.472222</td>\n",
       "    </tr>\n",
       "    <tr>\n",
       "      <th>15</th>\n",
       "      <td>7</td>\n",
       "      <td>0.091909</td>\n",
       "      <td>1.0</td>\n",
       "      <td>0.0</td>\n",
       "      <td>1.0</td>\n",
       "      <td>0.433333</td>\n",
       "    </tr>\n",
       "    <tr>\n",
       "      <th>21</th>\n",
       "      <td>8</td>\n",
       "      <td>0.239605</td>\n",
       "      <td>0.0</td>\n",
       "      <td>0.0</td>\n",
       "      <td>1.0</td>\n",
       "      <td>0.000000</td>\n",
       "    </tr>\n",
       "    <tr>\n",
       "      <th>25</th>\n",
       "      <td>9</td>\n",
       "      <td>0.629418</td>\n",
       "      <td>0.0</td>\n",
       "      <td>0.0</td>\n",
       "      <td>0.0</td>\n",
       "      <td>0.555556</td>\n",
       "    </tr>\n",
       "    <tr>\n",
       "      <th>41</th>\n",
       "      <td>9</td>\n",
       "      <td>0.410170</td>\n",
       "      <td>0.0</td>\n",
       "      <td>0.0</td>\n",
       "      <td>0.0</td>\n",
       "      <td>0.666667</td>\n",
       "    </tr>\n",
       "  </tbody>\n",
       "</table>\n",
       "</div>"
      ],
      "text/plain": [
       "    cluster_label  distance to center, m  morning_work  evening_work  \\\n",
       "10              0               0.361660           0.0           0.0   \n",
       "37              0               0.198805           0.0           0.0   \n",
       "34              0               0.359841           0.0           0.0   \n",
       "19              1               0.242810           1.0           0.0   \n",
       "4               1               0.162335           1.0           0.0   \n",
       "5               1               0.200710           1.0           0.0   \n",
       "17              1               0.241337           1.0           0.0   \n",
       "35              1               0.133229           1.0           0.0   \n",
       "8               1               0.331341           1.0           0.0   \n",
       "24              1               0.399861           1.0           0.0   \n",
       "11              1               0.055527           1.0           0.0   \n",
       "18              2               0.000000           0.0           0.0   \n",
       "31              2               0.235447           0.0           0.0   \n",
       "14              2               0.248787           0.0           0.0   \n",
       "42              2               0.026507           0.0           0.0   \n",
       "36              2               0.191441           0.0           0.0   \n",
       "38              2               0.368676           0.0           0.0   \n",
       "13              2               0.035516           0.0           0.0   \n",
       "40              3               1.000000           1.0           0.0   \n",
       "32              4               0.178621           0.0           0.0   \n",
       "30              4               0.150641           0.0           0.0   \n",
       "23              4               0.199671           0.0           0.0   \n",
       "0               4               0.133143           0.0           0.0   \n",
       "12              4               0.177235           0.0           0.0   \n",
       "20              4               0.014640           0.0           0.0   \n",
       "6               4               0.055094           0.0           0.0   \n",
       "16              4               0.201230           0.0           0.0   \n",
       "22              5               0.723406           0.0           0.0   \n",
       "33              6               0.694473           1.0           0.0   \n",
       "39              6               0.887561           1.0           0.0   \n",
       "28              7               0.137214           1.0           0.0   \n",
       "2               7               0.147782           1.0           0.0   \n",
       "27              7               0.018018           1.0           0.0   \n",
       "26              7               0.006757           1.0           0.0   \n",
       "9               7               0.007883           1.0           0.0   \n",
       "7               7               0.323458           1.0           0.0   \n",
       "1               7               0.204695           1.0           0.0   \n",
       "3               7               0.144924           1.0           0.0   \n",
       "29              7               0.001992           1.0           0.0   \n",
       "15              7               0.091909           1.0           0.0   \n",
       "21              8               0.239605           0.0           0.0   \n",
       "25              9               0.629418           0.0           0.0   \n",
       "41              9               0.410170           0.0           0.0   \n",
       "\n",
       "    weekend_work  month_price  \n",
       "10           0.0     0.888889  \n",
       "37           0.0     0.888889  \n",
       "34           0.0     1.000000  \n",
       "19           1.0     0.666667  \n",
       "4            1.0     0.666667  \n",
       "5            1.0     0.638889  \n",
       "17           1.0     0.716667  \n",
       "35           1.0     0.972222  \n",
       "8            1.0     0.666667  \n",
       "24           1.0     0.716667  \n",
       "11           1.0     0.888889  \n",
       "18           1.0     0.583333  \n",
       "31           1.0     0.600000  \n",
       "14           1.0     0.611111  \n",
       "42           1.0     0.500000  \n",
       "36           1.0     0.555556  \n",
       "38           1.0     0.622222  \n",
       "13           1.0     0.827778  \n",
       "40           0.0     0.555556  \n",
       "32           0.0     0.722222  \n",
       "30           0.0     0.472222  \n",
       "23           0.0     0.500000  \n",
       "0            0.0     0.500000  \n",
       "12           0.0     0.577778  \n",
       "20           0.0     0.555556  \n",
       "6            0.0     0.722222  \n",
       "16           0.0     0.416667  \n",
       "22           0.0     0.000000  \n",
       "33           1.0     0.611111  \n",
       "39           1.0     0.777778  \n",
       "28           1.0     0.600000  \n",
       "2            1.0     0.600000  \n",
       "27           1.0     0.550000  \n",
       "26           1.0     0.694444  \n",
       "9            1.0     0.416667  \n",
       "7            1.0     0.472222  \n",
       "1            1.0     0.472222  \n",
       "3            1.0     0.583333  \n",
       "29           1.0     0.472222  \n",
       "15           1.0     0.433333  \n",
       "21           1.0     0.000000  \n",
       "25           0.0     0.555556  \n",
       "41           0.0     0.666667  "
      ]
     },
     "execution_count": 7,
     "metadata": {},
     "output_type": "execute_result"
    }
   ],
   "source": [
    "yoga_classes_df_clustering.sort_values(by='cluster_label', inplace=True)\n",
    "yoga_classes_df_clustering"
   ]
  },
  {
   "cell_type": "markdown",
   "metadata": {},
   "source": [
    "So, now let's add informative interpretation of analysed clusters:\n",
    "* 0 - most expensive classes in the city center\n",
    "* 1 - quite expensive classes close to the city center, work in mornings and on weekends\n",
    "* 2 - average price classes that work over the weekend\n",
    "* 3 - yoga classes in far-far away galaxy :)\n",
    "* 4 - affordable classes in the city center only during work time\n",
    "* 5 - classes without price information only during work time\n",
    "* 6 - classes far from city center, but working in mornings and on weekends\n",
    "* 7 - affordable classes in the city center working in mornings and on weekends\n",
    "* 8 - classes without price information but working on weekends\n",
    "* 9 - classes quite distanciated from center, but with average price"
   ]
  },
  {
   "cell_type": "markdown",
   "metadata": {},
   "source": [
    "Adding clusters labels to original list of classes and retain only most important columns:"
   ]
  },
  {
   "cell_type": "code",
   "execution_count": 8,
   "metadata": {},
   "outputs": [
    {
     "data": {
      "text/html": [
       "<div>\n",
       "<style scoped>\n",
       "    .dataframe tbody tr th:only-of-type {\n",
       "        vertical-align: middle;\n",
       "    }\n",
       "\n",
       "    .dataframe tbody tr th {\n",
       "        vertical-align: top;\n",
       "    }\n",
       "\n",
       "    .dataframe thead th {\n",
       "        text-align: right;\n",
       "    }\n",
       "</style>\n",
       "<table border=\"1\" class=\"dataframe\">\n",
       "  <thead>\n",
       "    <tr style=\"text-align: right;\">\n",
       "      <th></th>\n",
       "      <th>name</th>\n",
       "      <th>borough</th>\n",
       "      <th>cluster_label</th>\n",
       "    </tr>\n",
       "  </thead>\n",
       "  <tbody>\n",
       "    <tr>\n",
       "      <th>0</th>\n",
       "      <td>yoga institut</td>\n",
       "      <td>Altstadt-Lehel</td>\n",
       "      <td>4</td>\n",
       "    </tr>\n",
       "    <tr>\n",
       "      <th>32</th>\n",
       "      <td>Yoga Garden</td>\n",
       "      <td>Altstadt-Lehel</td>\n",
       "      <td>4</td>\n",
       "    </tr>\n",
       "    <tr>\n",
       "      <th>2</th>\n",
       "      <td>Patrick Broome Yoga</td>\n",
       "      <td>Altstadt-Lehel</td>\n",
       "      <td>7</td>\n",
       "    </tr>\n",
       "    <tr>\n",
       "      <th>23</th>\n",
       "      <td>Prana Iyengar Yoga Institut</td>\n",
       "      <td>Altstadt-Lehel</td>\n",
       "      <td>4</td>\n",
       "    </tr>\n",
       "    <tr>\n",
       "      <th>5</th>\n",
       "      <td>Jivamukti Yoga</td>\n",
       "      <td>Altstadt-Lehel</td>\n",
       "      <td>1</td>\n",
       "    </tr>\n",
       "  </tbody>\n",
       "</table>\n",
       "</div>"
      ],
      "text/plain": [
       "                           name         borough  cluster_label\n",
       "0                 yoga institut  Altstadt-Lehel              4\n",
       "32                  Yoga Garden  Altstadt-Lehel              4\n",
       "2           Patrick Broome Yoga  Altstadt-Lehel              7\n",
       "23  Prana Iyengar Yoga Institut  Altstadt-Lehel              4\n",
       "5                Jivamukti Yoga  Altstadt-Lehel              1"
      ]
     },
     "execution_count": 8,
     "metadata": {},
     "output_type": "execute_result"
    }
   ],
   "source": [
    "yoga_labeled = pd.merge(yoga_classes_df, yoga_classes_df_clustering['cluster_label'], left_index=True, right_index=True)\n",
    "yoga_final = yoga_labeled[['name', 'borough','cluster_label']].sort_values(by=['borough'])\n",
    "yoga_final.head()"
   ]
  },
  {
   "cell_type": "markdown",
   "metadata": {},
   "source": [
    "Let's depict contribution of each cluster to total number of classes:"
   ]
  },
  {
   "cell_type": "code",
   "execution_count": 9,
   "metadata": {},
   "outputs": [
    {
     "data": {
      "image/png": "[encoded data removed]",
      "text/plain": [
       "<Figure size 432x288 with 1 Axes>"
      ]
     },
     "metadata": {},
     "output_type": "display_data"
    }
   ],
   "source": [
    "classes_per_cluster = yoga_final[['name', 'cluster_label']].groupby(['cluster_label']).count()\n",
    "classes_per_cluster.reset_index(inplace=True)\n",
    "classes_per_cluster.rename(columns={'name': 'count'}, inplace=True)\n",
    "values = classes_per_cluster['count'].values\n",
    "labels = classes_per_cluster['cluster_label'].values\n",
    "explode = np.empty(len(values))\n",
    "explode.fill(.2)\n",
    "plt.pie(x = values,\n",
    "    labels = labels,\n",
    "    explode = explode,\n",
    "    autopct='%1.1f%%',\n",
    "    labeldistance = 1.05,\n",
    "    radius = 2);"
   ]
  },
  {
   "cell_type": "markdown",
   "metadata": {},
   "source": [
    "Now, let's see percentage distribution of classes per borough:"
   ]
  },
  {
   "cell_type": "code",
   "execution_count": 10,
   "metadata": {},
   "outputs": [
    {
     "data": {
      "image/png": "[encoded data removed]",
      "text/plain": [
       "<Figure size 432x288 with 1 Axes>"
      ]
     },
     "metadata": {},
     "output_type": "display_data"
    }
   ],
   "source": [
    "classes_per_borough = yoga_final[['borough', 'cluster_label']].groupby(['borough']).count()\n",
    "classes_per_borough.reset_index(inplace=True)\n",
    "classes_per_borough.rename(columns={'cluster_label': 'count'}, inplace=True)\n",
    "values = classes_per_borough['count'].values\n",
    "labels = classes_per_borough['borough'].values\n",
    "explode = np.empty(len(values))\n",
    "explode.fill(.2)\n",
    "plt.pie(x = values,\n",
    "    labels = labels,\n",
    "    explode = explode,\n",
    "    autopct='%1.1f%%',\n",
    "    labeldistance = 1.05,\n",
    "    radius = 3);"
   ]
  },
  {
   "cell_type": "markdown",
   "metadata": {},
   "source": [
    "and some boroughs do not have any joga classes with online information about themat all:"
   ]
  },
  {
   "cell_type": "code",
   "execution_count": 11,
   "metadata": {},
   "outputs": [
    {
     "data": {
      "text/html": [
       "<div>\n",
       "<style scoped>\n",
       "    .dataframe tbody tr th:only-of-type {\n",
       "        vertical-align: middle;\n",
       "    }\n",
       "\n",
       "    .dataframe tbody tr th {\n",
       "        vertical-align: top;\n",
       "    }\n",
       "\n",
       "    .dataframe thead th {\n",
       "        text-align: right;\n",
       "    }\n",
       "</style>\n",
       "<table border=\"1\" class=\"dataframe\">\n",
       "  <thead>\n",
       "    <tr style=\"text-align: right;\">\n",
       "      <th></th>\n",
       "      <th>name</th>\n",
       "    </tr>\n",
       "  </thead>\n",
       "  <tbody>\n",
       "    <tr>\n",
       "      <th>22</th>\n",
       "      <td>Allach-Untermenzing</td>\n",
       "    </tr>\n",
       "    <tr>\n",
       "      <th>21</th>\n",
       "      <td>Aubing-Lochhausen-Langwied</td>\n",
       "    </tr>\n",
       "    <tr>\n",
       "      <th>23</th>\n",
       "      <td>Feldmoching-Hasenbergl</td>\n",
       "    </tr>\n",
       "    <tr>\n",
       "      <th>19</th>\n",
       "      <td>Hadern</td>\n",
       "    </tr>\n",
       "    <tr>\n",
       "      <th>10</th>\n",
       "      <td>Milbertshofen-Am Hart</td>\n",
       "    </tr>\n",
       "    <tr>\n",
       "      <th>9</th>\n",
       "      <td>München-Moosach</td>\n",
       "    </tr>\n",
       "    <tr>\n",
       "      <th>20</th>\n",
       "      <td>Pasing-Obermenzing</td>\n",
       "    </tr>\n",
       "    <tr>\n",
       "      <th>15</th>\n",
       "      <td>Ramersdorf-Perlach</td>\n",
       "    </tr>\n",
       "    <tr>\n",
       "      <th>11</th>\n",
       "      <td>Schwabing-Freimann</td>\n",
       "    </tr>\n",
       "    <tr>\n",
       "      <th>5</th>\n",
       "      <td>Sendling</td>\n",
       "    </tr>\n",
       "    <tr>\n",
       "      <th>6</th>\n",
       "      <td>Sendling-Westpark</td>\n",
       "    </tr>\n",
       "    <tr>\n",
       "      <th>17</th>\n",
       "      <td>Untergiesing-Harlaching</td>\n",
       "    </tr>\n",
       "  </tbody>\n",
       "</table>\n",
       "</div>"
      ],
      "text/plain": [
       "                          name\n",
       "22         Allach-Untermenzing\n",
       "21  Aubing-Lochhausen-Langwied\n",
       "23      Feldmoching-Hasenbergl\n",
       "19                      Hadern\n",
       "10       Milbertshofen-Am Hart\n",
       "9              München-Moosach\n",
       "20          Pasing-Obermenzing\n",
       "15          Ramersdorf-Perlach\n",
       "11          Schwabing-Freimann\n",
       "5                     Sendling\n",
       "6            Sendling-Westpark\n",
       "17     Untergiesing-Harlaching"
      ]
     },
     "execution_count": 11,
     "metadata": {},
     "output_type": "execute_result"
    }
   ],
   "source": [
    "boroughs_classes = boroughs_df.merge(classes_per_borough, \n",
    "                                     left_on='name', \n",
    "                                     right_on='borough', \n",
    "                                     how='left')[['name', 'count', 'population']]\n",
    "boroughs_without_classes = boroughs_classes[np.isnan(boroughs_classes['count'])][['name']]\n",
    "boroughs_without_classes.sort_values(by=['name'], inplace=True)\n",
    "boroughs_without_classes"
   ]
  },
  {
   "cell_type": "markdown",
   "metadata": {},
   "source": [
    "We have information about population in each borough, so we can calculate now mamy people per yoga classes each borough has on average:"
   ]
  },
  {
   "cell_type": "code",
   "execution_count": 12,
   "metadata": {},
   "outputs": [],
   "source": [
    "boroughs_classes.fillna(float(\"inf\"))\n",
    "boroughs_classes['people_per_classes'] = boroughs_classes['population'] / boroughs_classes['count']\n",
    "boroughs_classes.fillna(0, inplace=True)\n",
    "boroughs_classes.round(2)\n",
    "boroughs_classes.sort_values(by=['people_per_classes', 'population'], ascending=False, inplace=True)"
   ]
  },
  {
   "cell_type": "markdown",
   "metadata": {},
   "source": [
    "To make it more fair, we split boroughs into 2 groups:\n",
    "* with classes, which have online information\n",
    "* with no classes, which have websites"
   ]
  },
  {
   "cell_type": "code",
   "execution_count": 13,
   "metadata": {},
   "outputs": [],
   "source": [
    "boroughs_online = boroughs_classes[boroughs_classes['count'] > 0.0]\n",
    "boroughs_offline = boroughs_classes[boroughs_classes['count'] <= 0.0]"
   ]
  },
  {
   "cell_type": "markdown",
   "metadata": {},
   "source": [
    "For \"online\" classes let's visualize number of people per class:"
   ]
  },
  {
   "cell_type": "code",
   "execution_count": 14,
   "metadata": {},
   "outputs": [
    {
     "data": {
      "image/png": "[encoded data removed]",
      "text/plain": [
       "<Figure size 1080x504 with 1 Axes>"
      ]
     },
     "metadata": {
      "needs_background": "light"
     },
     "output_type": "display_data"
    }
   ],
   "source": [
    "online_names = boroughs_online['name'].values\n",
    "x_on = np.arange(len(online_names))\n",
    "\n",
    "plt.figure(figsize=(15,7))\n",
    "\n",
    "plt.bar(x_on, boroughs_online['people_per_classes'].values, color='green')\n",
    "plt.xticks(x_on, online_names, rotation='vertical');"
   ]
  },
  {
   "cell_type": "markdown",
   "metadata": {},
   "source": [
    "In the same time there are boroughs with _no yoga classes, which have online info_ about them.\n",
    "For them, let's depict overall population in descending order:"
   ]
  },
  {
   "cell_type": "code",
   "execution_count": 15,
   "metadata": {},
   "outputs": [
    {
     "data": {
      "image/png": "[encoded data removed]",
      "text/plain": [
       "<Figure size 1080x504 with 1 Axes>"
      ]
     },
     "metadata": {
      "needs_background": "light"
     },
     "output_type": "display_data"
    }
   ],
   "source": [
    "offline_names = boroughs_offline['name'].values\n",
    "x_off = np.arange(len(offline_names))\n",
    "\n",
    "plt.figure(figsize=(15,7))\n",
    "plt.bar(x_off, boroughs_offline['population'].values, color='grey')\n",
    "plt.xticks(x_off, offline_names, rotation='vertical');"
   ]
  },
  {
   "cell_type": "markdown",
   "metadata": {},
   "source": [
    "## Discussion <a name=\"discussion\"></a>"
   ]
  },
  {
   "cell_type": "markdown",
   "metadata": {},
   "source": [
    "Based on clusters interpretation, described in details in \"Results\" section, we can conclude, that 3 most significant numbers are:\n",
    "* affordable classes in the city center working in mornings and on weekends (23.3%) \n",
    "* quite expensive classes close to the city center, work in mornings and on weekends (18.6%)\n",
    "* affordable classes in the city center only during work time (18.6%)\n",
    "\n",
    "thus, top-3 clusters unambiguously confirm, that there are 2 most important aspects:\n",
    " 1. distance to the city-center\n",
    " 1. working in mornings and on weekends"
   ]
  },
  {
   "cell_type": "markdown",
   "metadata": {},
   "source": [
    "Next, let's summarise per-boroughs analisys results.\n",
    "Most crowded boroughs are:\n",
    "* Thalkirchen-Obersendling-Forstenried-Fürstenried-Solln\n",
    "* Bogenhausen\n",
    "* Laim\n",
    "\n",
    "thus, good boroughs to someone, who consider conduct yoga classes, because demand there is highest."
   ]
  },
  {
   "cell_type": "markdown",
   "metadata": {},
   "source": [
    "On contrary, from attendees prospective, 3 least crowded boroughs are:\n",
    "* Altstadt-Lehel\n",
    "* Schwanthalerhöhe\n",
    "* Schwabing-West\n",
    "\n",
    "where you have least visitors per class, so attendance should be comfortable."
   ]
  },
  {
   "cell_type": "markdown",
   "metadata": {},
   "source": [
    "For boroughs, which do not have online information about yoga classes we can only recommend to someone, who plans to _conduct_ yoga classes.  \n",
    "\n",
    "Top-3 candidates to consider are:\n",
    "* Ramersdorf-Perlach\n",
    "* Untergiesing-Harlaching\n",
    "* Milbertshofen-Am Hart\n",
    "\n",
    "Beside that, consider that there is very high demand for _morning and weekend working hours_.\n",
    "\n",
    "P.S.\n",
    "Do not forget to put information about your classes online ;)"
   ]
  },
  {
   "cell_type": "markdown",
   "metadata": {},
   "source": [
    "## Conclusion <a name=\"conclusion\"></a>"
   ]
  },
  {
   "cell_type": "markdown",
   "metadata": {},
   "source": [
    "Main goal of the project was to build the recommendations to people who would like to attend or conduct yoga classes in Munich.\n",
    "To collect the input raw data for analysis Forsquare API has been used, but besides that some more manual specific-data collection work was needed.\n",
    "Thanks to Munich official website, it was also possible to obtain the population information per borough of the city, thus more detailed and precise analysis conclusions were possible.\n",
    "\n",
    "Raw input data required quite a lot of cleanup and normalization before it could be fed into the machine learning algorithm, which was _K-Means Clustering_ as the best algorithm when it comes to the analytical classification tasks.\n",
    "One of the core challenges when using _K-Means Clustering_ is to decide on number of clusters, so multiple iterations and experiments were made to come up with final number of clusters.\n",
    "\n",
    "Based on results of ML-algorithm application and further statistical analysis, the author tried to do his best to provide useful and specific recommendations for yoga classes visitors, as well as for someone, who plans to start his/her own yoga business in Munich."
   ]
  }
 ],
 "metadata": {
  "kernelspec": {
   "display_name": "Python 3",
   "language": "python",
   "name": "python3"
  },
  "language_info": {
   "codemirror_mode": {
    "name": "ipython",
    "version": 3
   },
   "file_extension": ".py",
   "mimetype": "text/x-python",
   "name": "python",
   "nbconvert_exporter": "python",
   "pygments_lexer": "ipython3",
   "version": "3.7.6"
  }
 },
 "nbformat": 4,
 "nbformat_minor": 4
}

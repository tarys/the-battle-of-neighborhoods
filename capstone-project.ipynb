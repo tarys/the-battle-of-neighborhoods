{
 "cells": [
  {
   "cell_type": "markdown",
   "metadata": {},
   "source": [
    "# Capstone Project - The Battle of the Neighborhoods"
   ]
  },
  {
   "cell_type": "markdown",
   "metadata": {},
   "source": [
    "## Introduction: Business Problem"
   ]
  },
  {
   "cell_type": "markdown",
   "metadata": {},
   "source": [
    "Nowadays working at office or home office is one of the most frequent setups. In most cases such type of work requires seating for multiple hours a day, which brings very unhealthy static tension to the body.  \n",
    "There are multiple types of sport activities to eliminate and compensiate such bad influence, one of very popular is yoga. Yoga implies combination of physical exercises with mental relaxing which also helps to decrease overall stress. Moreover most of yoga exersices do not require extreme physical pressure and are quite safe from injury prospective.  \n",
    "All that said, yoga is quite nice choice for office workers who live in big urban areas.\n",
    "\n",
    "Thus, building a recomendation system for finding best suitable yoga class for office workers based on certain criteria is valuable analytical problem that perfectly fits into _Clustering_ type of Data Science problems which could be solved by unsupervised learning algorithms."
   ]
  },
  {
   "cell_type": "markdown",
   "metadata": {},
   "source": [
    "## Data"
   ]
  },
  {
   "cell_type": "markdown",
   "metadata": {},
   "source": [
    "#### Python libraries import"
   ]
  },
  {
   "cell_type": "code",
   "execution_count": null,
   "metadata": {},
   "outputs": [],
   "source": [
    "import pandas as pd\n",
    "import folium\n",
    "import requests\n",
    "import math"
   ]
  },
  {
   "cell_type": "markdown",
   "metadata": {},
   "source": [
    "### Collection"
   ]
  },
  {
   "cell_type": "markdown",
   "metadata": {},
   "source": [
    "Geo-data about Munich boroughs from [Wikipedia](https://en.wikipedia.org/wiki/Boroughs_of_Munich), [surface and population in each of them](http://www.total-munich.com/20160623888/blog/moving-to-munich/moving-to-munich-introduction-to-munich-s-boroughs.html) was manually constructed and stored into [munich_boroughs.csv](munich_boroughs.csv) CSV-file:"
   ]
  },
  {
   "cell_type": "code",
   "execution_count": null,
   "metadata": {},
   "outputs": [],
   "source": [
    "boroughs_df = pd.read_csv('munich_boroughs.csv')\n",
    "boroughs_df.head()"
   ]
  },
  {
   "cell_type": "markdown",
   "metadata": {},
   "source": [
    "Foursquare API is used to obtain information about _Yoga Studios_ in each borough. Following API endpoints are specially useful to get needed info:\n",
    " - https://developer.foursquare.com/docs/api/venues/search\n",
    " - https://developer.foursquare.com/docs/api/venues/details\n",
    "\n",
    "To narrow search results to Yoga classes Venues only we use _Yoga Studio_ `categoryId` = `4bf58dd8d48988d102941735` from [available API categories values](https://developer.foursquare.com/docs/resources/categories).  \n",
    "Total number of venues in all boroughs after collection is truncated to no more than 100 rows. "
   ]
  },
  {
   "cell_type": "markdown",
   "metadata": {},
   "source": [
    "### Cleanup and feature extraction"
   ]
  },
  {
   "cell_type": "markdown",
   "metadata": {},
   "source": [
    "Raw JSON data about _Venues_ retrieved from Foursquare API should be filtered to the following structure:\n",
    " - Foursquare ID\n",
    " - Name\n",
    " - Geo-location:\n",
    "   - Latitude\n",
    "   - Longitude\n",
    " - Contacts:\n",
    "   - Phone\n",
    "   - Website\n",
    "   - Facebook\n",
    "   - Twitter\n",
    "   - Instagram\n",
    " - Openning hours\n",
    " - Rating\n",
    " \n",
    "Mentioned structure is then populated with prices information manually to the best of researcher's effort. \n",
    "Populated data is then flattened and one-hot encoded to generate _feature-file_ for _K-Means Clustering_ algorithm to determine main types of offered Yoga classes in Munich (e.g. far from city center, but cheap; popular in the city center, etc.)"
   ]
  },
  {
   "cell_type": "markdown",
   "metadata": {},
   "source": [
    "## Methodology"
   ]
  },
  {
   "cell_type": "markdown",
   "metadata": {},
   "source": [
    "First, let's visualize boroughs centers on the map:"
   ]
  },
  {
   "cell_type": "code",
   "execution_count": null,
   "metadata": {},
   "outputs": [],
   "source": [
    "munich_latitude = 48.153333\n",
    "munich_longitude = 11.566667\n",
    "map_munich = folium.Map(location=[munich_latitude, munich_longitude], zoom_start=12)\n",
    "\n",
    "for _, borough in boroughs_df.iterrows():\n",
    "    label = folium.Popup(borough['name'], parse_html=True)\n",
    "    folium.CircleMarker(\n",
    "        [borough['latitude'], borough['longitude']],\n",
    "        radius=5,\n",
    "        popup=label,\n",
    "        color='blue',\n",
    "        fill=True,\n",
    "        fill_color='#3186cc',\n",
    "        fill_opacity=0.7,\n",
    "        parse_html=False).add_to(map_munich)\n",
    "\n",
    "map_munich"
   ]
  },
  {
   "cell_type": "markdown",
   "metadata": {},
   "source": [
    "Next we used Foursquare API to obtain information about Yoga Studios in each boroughs.  \n",
    "Define Foursquare API calls parameters which have constant values:"
   ]
  },
  {
   "cell_type": "code",
   "execution_count": null,
   "metadata": {},
   "outputs": [],
   "source": [
    "CLIENT_ID = ''\n",
    "CLIENT_SECRET = ''\n",
    "VERSION = '20190922'\n",
    "RADIUS=5000 # meters around location\n",
    "LIMIT=100\n",
    "# see https://developer.foursquare.com/docs/resources/categories for all possible values\n",
    "YOGA_STUDIO_CATEGORY_ID='4bf58dd8d48988d102941735'"
   ]
  },
  {
   "cell_type": "markdown",
   "metadata": {},
   "source": [
    "Retrieve information about Yoga Studios via Foursquare API call:"
   ]
  },
  {
   "cell_type": "code",
   "execution_count": null,
   "metadata": {},
   "outputs": [],
   "source": [
    "venues = []\n",
    "for _, borough in boroughs_df.iterrows():\n",
    "    \n",
    "    url = 'https://api.foursquare.com/v2/venues/search?&client_id={client_id}&client_secret={client_secret}&v={v}&ll={lat},{lng}&radius={radius}&limit={limit}&categoryId={categoryId}'.format(\n",
    "            client_id=CLIENT_ID, \n",
    "            client_secret=CLIENT_SECRET, \n",
    "            v=VERSION, \n",
    "            lat=borough['latitude'], \n",
    "            lng=borough['longitude'], \n",
    "            radius=RADIUS, \n",
    "            limit=LIMIT,\n",
    "            categoryId=YOGA_STUDIO_CATEGORY_ID)\n",
    "    response = requests.get(url).json()['response']['venues']\n",
    "    if response:\n",
    "        print(\"Found {number} venues for '{name}' borough.\".format(number=len(response), name=borough['name']))\n",
    "        for venue in response:\n",
    "            address = venue['location']['address'] if 'address' in venue['location'] else ''\n",
    "            venues.append([venue['id'], venue['name'], venue['location']['lat'], venue['location']['lng'], address])\n",
    "    else:\n",
    "        print(\"WARNING: No venues found for '{name}' borough.\".format(name=borough['name']))\n",
    "yoga_classes_raw_df = pd.DataFrame(venues, columns=['id', 'name', 'latitude', 'longitude', 'address'])"
   ]
  },
  {
   "cell_type": "markdown",
   "metadata": {},
   "source": [
    "Let's get basic understanding of actual data:"
   ]
  },
  {
   "cell_type": "code",
   "execution_count": null,
   "metadata": {},
   "outputs": [],
   "source": [
    "print('Raw df size:', yoga_classes_raw_df.shape)\n",
    "yoga_classes_raw_df.head()"
   ]
  },
  {
   "cell_type": "markdown",
   "metadata": {},
   "source": [
    "Remove duplicates:"
   ]
  },
  {
   "cell_type": "code",
   "execution_count": null,
   "metadata": {},
   "outputs": [],
   "source": [
    "yoga_classes_df = yoga_classes_raw_df.drop_duplicates(subset='id').reset_index(drop=True)\n",
    "print('Deduplicated df size:', yoga_classes_df.shape)"
   ]
  },
  {
   "cell_type": "markdown",
   "metadata": {},
   "source": [
    "Utility function to convert latitute and longitude coordinates into distance, based on [Haversine formula](https://en.wikipedia.org/wiki/Haversine_formula):"
   ]
  },
  {
   "cell_type": "code",
   "execution_count": null,
   "metadata": {},
   "outputs": [],
   "source": [
    "def haversine_formula(lat1, lon1, lat2, lon2):\n",
    "    R = 6378.137; # radius of earth in KM\n",
    "    dLat = lat2 * math.pi / 180 - lat1 * math.pi / 180;\n",
    "    dLon = lon2 * math.pi / 180 - lon1 * math.pi / 180;\n",
    "    a = math.sin(dLat/2) * math.sin(dLat/2) + math.cos(lat1 * math.pi / 180) * math.cos(lat2 * math.pi / 180) * math.sin(dLon/2) * math.sin(dLon/2);\n",
    "    c = 2 * math.atan2(math.sqrt(a), math.sqrt(1 - a));\n",
    "    d = R * c;\n",
    "    \n",
    "    return math.ceil(d * 1000) # meters"
   ]
  },
  {
   "cell_type": "markdown",
   "metadata": {},
   "source": [
    "Calculate distance from Munich city center:"
   ]
  },
  {
   "cell_type": "code",
   "execution_count": null,
   "metadata": {},
   "outputs": [],
   "source": [
    "munich_lat = 48.1451181\n",
    "munich_lon = 11.5430782\n",
    "yoga_classes_df['distance to center, m'] = yoga_classes_df.apply(lambda row: haversine_formula(row['latitude'], row['longitude'], munich_lat, munich_lon), axis=1)\n",
    "yoga_classes_df.head()"
   ]
  },
  {
   "cell_type": "markdown",
   "metadata": {},
   "source": [
    "To determine to which borough each yoga class belongs to:\n",
    "1. Calculate distance between venue and borough center locations\n",
    "1. Select borough with min distance"
   ]
  },
  {
   "cell_type": "code",
   "execution_count": null,
   "metadata": {},
   "outputs": [],
   "source": [
    "borough_distances = []\n",
    "for _, borough in boroughs_df.iterrows():\n",
    "    column_name = borough['name']\n",
    "    borough_distances.append(column_name)\n",
    "    borough_lat = borough['latitude']\n",
    "    borough_lon = borough['longitude']\n",
    "    yoga_classes_df[column_name] = yoga_classes_df.apply(lambda row: haversine_formula(row['latitude'], row['longitude'], borough_lat, borough_lon), axis=1)\n",
    "yoga_classes_df['borough'] = yoga_classes_df[borough_distances].T.idxmin()\n",
    "yoga_classes_df.drop(columns=borough_distances, inplace=True)\n"
   ]
  },
  {
   "cell_type": "markdown",
   "metadata": {},
   "source": [
    "Create dataframe with features for K-means algorihtm:"
   ]
  },
  {
   "cell_type": "code",
   "execution_count": null,
   "metadata": {},
   "outputs": [],
   "source": [
    "yoga_classes_features_df = yoga_classes_df[['id', 'name', 'borough', 'distance to center, m']]\n",
    "yoga_classes_features_df.head()"
   ]
  },
  {
   "cell_type": "markdown",
   "metadata": {},
   "source": [
    "## Results"
   ]
  },
  {
   "cell_type": "code",
   "execution_count": null,
   "metadata": {},
   "outputs": [],
   "source": []
  },
  {
   "cell_type": "markdown",
   "metadata": {},
   "source": [
    "TBD"
   ]
  },
  {
   "cell_type": "markdown",
   "metadata": {},
   "source": [
    "## Discussion"
   ]
  },
  {
   "cell_type": "markdown",
   "metadata": {},
   "source": [
    "TBD"
   ]
  },
  {
   "cell_type": "markdown",
   "metadata": {},
   "source": [
    "## Conclusion"
   ]
  },
  {
   "cell_type": "markdown",
   "metadata": {},
   "source": [
    "TBD"
   ]
  },
  {
   "cell_type": "code",
   "execution_count": null,
   "metadata": {},
   "outputs": [],
   "source": []
  }
 ],
 "metadata": {
  "kernelspec": {
   "display_name": "Python 3",
   "language": "python",
   "name": "python3"
  },
  "language_info": {
   "codemirror_mode": {
    "name": "ipython",
    "version": 3
   },
   "file_extension": ".py",
   "mimetype": "text/x-python",
   "name": "python",
   "nbconvert_exporter": "python",
   "pygments_lexer": "ipython3",
   "version": "3.7.3"
  }
 },
 "nbformat": 4,
 "nbformat_minor": 2
}

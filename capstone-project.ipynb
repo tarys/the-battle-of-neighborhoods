{
 "cells": [
  {
   "cell_type": "markdown",
   "metadata": {},
   "source": [
    "# Capstone Project - The Battle of the Neighborhoods"
   ]
  },
  {
   "cell_type": "markdown",
   "metadata": {},
   "source": [
    "## Introduction: Business Problem"
   ]
  },
  {
   "cell_type": "markdown",
   "metadata": {},
   "source": [
    "Nowadays working at office or home office is one of the most frequent setups. In most cases such type of work requires seating for multiple hours a day, which brings very unhealthy static tension to the body.  \n",
    "There are multiple types of sport activities to eliminate and compensiate such bad influence, one of very popular is yoga. Yoga implies combination of physical exercises with mental relaxing which also helps to decrease overall stress. Moreover most of yoga exersices do not require extreme physical pressure and are quite safe from injury prospective.  \n",
    "All that said, yoga is quite nice choice for office workers who live in big urban areas.\n",
    "\n",
    "Thus, building a recomendation system for finding best suitable yoga class for office workers based on certain criteria is valuable analytical problem that perfectly fits into _Clustering_ type of Data Science problems which could be solved by unsupervised learning algorithms."
   ]
  },
  {
   "cell_type": "markdown",
   "metadata": {},
   "source": [
    "## Data"
   ]
  },
  {
   "cell_type": "markdown",
   "metadata": {},
   "source": [
    "### Collection"
   ]
  },
  {
   "cell_type": "markdown",
   "metadata": {},
   "source": [
    "Geo-data about Munich boroughs from [Wikipedia](https://en.wikipedia.org/wiki/Boroughs_of_Munich), [surface and population in each of them](http://www.total-munich.com/20160623888/blog/moving-to-munich/moving-to-munich-introduction-to-munich-s-boroughs.html) was manually constructed and stored into [munich_boroughs.csv](munich_boroughs.csv) CSV-file:"
   ]
  },
  {
   "cell_type": "code",
   "execution_count": null,
   "metadata": {},
   "outputs": [],
   "source": [
    "boroughs_df = pd.read_csv('munich_boroughs.csv')\n",
    "boroughs_df.head()"
   ]
  },
  {
   "cell_type": "markdown",
   "metadata": {},
   "source": [
    "Foursquare API is used to obtain information about _Yoga Studios_ in each borough. Following API endpoints are specially useful to get needed info:\n",
    " - https://developer.foursquare.com/docs/api/venues/search\n",
    " - https://developer.foursquare.com/docs/api/venues/details\n",
    "\n",
    "To narrow search results to Yoga classes Venues only we use _Yoga Studio_ `categoryId` = `4bf58dd8d48988d102941735` from [available API categories values](https://developer.foursquare.com/docs/resources/categories).  \n",
    "Total number of venues in all boroughs after collection is truncated to no more than 100 rows. "
   ]
  },
  {
   "cell_type": "markdown",
   "metadata": {},
   "source": [
    "### Cleanup and feature extraction"
   ]
  },
  {
   "cell_type": "markdown",
   "metadata": {},
   "source": [
    "Raw JSON data about _Venues_ retrieved from Foursquare API should be filtered to the following structure:\n",
    " - Foursquare ID\n",
    " - Name\n",
    " - Geo-location:\n",
    "   - Latitude\n",
    "   - Longitude\n",
    " - Contacts:\n",
    "   - Phone\n",
    "   - Website\n",
    "   - Facebook\n",
    "   - Twitter\n",
    "   - Instagram\n",
    " - Openning hours\n",
    " - Rating\n",
    " \n",
    "Mentioned structure is then populated with prices information manually to the best of researcher's effort. \n",
    "Populated data is then flattened and one-hot encoded to generate _feature-file_ for _K-Means Clustering_ algorithm to determine main types of offered Yoga classes in Munich (e.g. far from city center, but cheap; popular in the city center, etc.)"
   ]
  }
 ],
 "metadata": {
  "kernelspec": {
   "display_name": "Python 3",
   "language": "python",
   "name": "python3"
  },
  "language_info": {
   "codemirror_mode": {
    "name": "ipython",
    "version": 3
   },
   "file_extension": ".py",
   "mimetype": "text/x-python",
   "name": "python",
   "nbconvert_exporter": "python",
   "pygments_lexer": "ipython3",
   "version": "3.7.3"
  }
 },
 "nbformat": 4,
 "nbformat_minor": 2
}
